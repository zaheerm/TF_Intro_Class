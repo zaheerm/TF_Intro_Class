{
 "cells": [
  {
   "cell_type": "code",
   "execution_count": 2,
   "metadata": {},
   "outputs": [],
   "source": [
    "import numpy as np\n",
    "import tensorflow as tf"
   ]
  },
  {
   "cell_type": "markdown",
   "metadata": {},
   "source": [
    "### Exercise 1: Matrix Multiply\n",
    "* Use `tf.fill(shape, value)` to create two different 2x2 matrices, one of them all filled with the value 7.32 and the other with the value 6.56\n",
    "* Then use `tf.matmul(matrix_a,matrix_b)` to do a matrix multiply, and show your result by running it in a session using the `with` context manager. "
   ]
  },
  {
   "cell_type": "code",
   "execution_count": 12,
   "metadata": {},
   "outputs": [
    {
     "name": "stdout",
     "output_type": "stream",
     "text": [
      "[[96.0384 96.0384]\n",
      " [96.0384 96.0384]]\n"
     ]
    }
   ],
   "source": []
  },
  {
   "cell_type": "markdown",
   "metadata": {},
   "source": [
    "### Exercise 2: Execute a Computation Graph\n",
    "* Create and run the computation graph in this picture using TensorFlow\n",
    "* Use x = 3 and y = 7 as your starting values\n",
    "<img src='../pics/compgraph_sincos.png' width=340px>\n",
    "* Functions you will need: `tf.sin()`, `tf.cos()`, `tf.add()`, `tf.multiply()`, `tf.divide()`"
   ]
  },
  {
   "cell_type": "code",
   "execution_count": 14,
   "metadata": {},
   "outputs": [],
   "source": []
  },
  {
   "cell_type": "code",
   "execution_count": 15,
   "metadata": {},
   "outputs": [
    {
     "data": {
      "text/plain": [
       "-0.22184035"
      ]
     },
     "execution_count": 15,
     "metadata": {},
     "output_type": "execute_result"
    }
   ],
   "source": []
  },
  {
   "cell_type": "markdown",
   "metadata": {},
   "source": [
    "### Exercise 3: Feed in values using feed-dict and placeholders\n",
    "* Use the same computation graph as in exercise 2, but this time, start off `x` and `y` as 3x3 arrays of random values using `tf.random_normal(shape)`\n",
    "* Change `w1` and `w2` into placeholders, and run the graph using `feed_dict`\n",
    "* Your output should be a 3x3 array of random numbers"
   ]
  },
  {
   "cell_type": "code",
   "execution_count": 22,
   "metadata": {},
   "outputs": [],
   "source": []
  },
  {
   "cell_type": "code",
   "execution_count": 23,
   "metadata": {},
   "outputs": [
    {
     "data": {
      "text/plain": [
       "array([[-2.0437193 ,  0.7138333 , -0.29968038],\n",
       "       [-1.2400811 ,  0.74266607, -5.471509  ],\n",
       "       [-2.3333826 , -1.112786  , 21.828873  ]], dtype=float32)"
      ]
     },
     "execution_count": 23,
     "metadata": {},
     "output_type": "execute_result"
    }
   ],
   "source": []
  },
  {
   "cell_type": "code",
   "execution_count": null,
   "metadata": {},
   "outputs": [],
   "source": []
  }
 ],
 "metadata": {
  "kernelspec": {
   "display_name": "Python 3",
   "language": "python",
   "name": "python3"
  },
  "language_info": {
   "codemirror_mode": {
    "name": "ipython",
    "version": 3
   },
   "file_extension": ".py",
   "mimetype": "text/x-python",
   "name": "python",
   "nbconvert_exporter": "python",
   "pygments_lexer": "ipython3",
   "version": "3.5.2"
  }
 },
 "nbformat": 4,
 "nbformat_minor": 2
}
