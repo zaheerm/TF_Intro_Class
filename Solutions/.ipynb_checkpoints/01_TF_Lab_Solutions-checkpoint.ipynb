{
 "cells": [
  {
   "cell_type": "code",
   "execution_count": 1,
   "metadata": {},
   "outputs": [
    {
     "name": "stderr",
     "output_type": "stream",
     "text": [
      "/usr/local/lib/python3.5/dist-packages/h5py/__init__.py:36: FutureWarning: Conversion of the second argument of issubdtype from `float` to `np.floating` is deprecated. In future, it will be treated as `np.float64 == np.dtype(float).type`.\n",
      "  from ._conv import register_converters as _register_converters\n"
     ]
    }
   ],
   "source": [
    "import numpy as np\n",
    "import tensorflow as tf"
   ]
  },
  {
   "cell_type": "markdown",
   "metadata": {},
   "source": [
    "### Exercise 1: Matrix Multiply\n",
    "* Use `tf.fill(shape, value)` to create two different 2x2 matrices, one of them all filled with the value 7.32 and the other with the value 6.56\n",
    "* Then use `tf.matmul(matrix_a,matrix_b)` to do a matrix multiply, and show your result by running it in a session using the `with` context manager. "
   ]
  },
  {
   "cell_type": "code",
   "execution_count": 12,
   "metadata": {},
   "outputs": [
    {
     "name": "stdout",
     "output_type": "stream",
     "text": [
      "[[96.0384 96.0384]\n",
      " [96.0384 96.0384]]\n"
     ]
    }
   ],
   "source": [
    "tf.reset_default_graph()\n",
    "a = tf.fill((2,2), 7.32)\n",
    "b = tf.fill((2,2), 6.56)\n",
    "c = tf.matmul(a,b)\n",
    "\n",
    "with tf.Session() as sess:\n",
    "    #print(sess.run(c))\n",
    "    #print(c.eval())\n",
    "    out_c = sess.run(c)\n",
    "    print(out_c)"
   ]
  },
  {
   "cell_type": "code",
   "execution_count": 9,
   "metadata": {},
   "outputs": [
    {
     "data": {
      "text/plain": [
       "numpy.ndarray"
      ]
     },
     "execution_count": 9,
     "metadata": {},
     "output_type": "execute_result"
    }
   ],
   "source": [
    "type(out_c)"
   ]
  },
  {
   "cell_type": "markdown",
   "metadata": {},
   "source": [
    "### Exercise 2: Execute a Computation Graph\n",
    "* Create and run the computation graph in this picture using TensorFlow\n",
    "* Use x = 3 and y = y as your starting values\n",
    "<img src='../pics/compgraph_sincos.png' width=340px>\n",
    "* Functions you will need: `tf.sin()`, `tf.cos()`, `tf.add()`, `tf.multiply()`, `tf.divide()`"
   ]
  },
  {
   "cell_type": "code",
   "execution_count": 14,
   "metadata": {},
   "outputs": [],
   "source": [
    "x = tf.constant(3.)\n",
    "y = tf.constant(7.)\n",
    "w1 = x\n",
    "w2 = y\n",
    "w3 = tf.cos(x)\n",
    "w4 = tf.sin(y)\n",
    "w5 = tf.multiply(w3, w4)\n",
    "w6 = tf.divide(w1, w2)\n",
    "w7 = tf.add(w5,w6)"
   ]
  },
  {
   "cell_type": "code",
   "execution_count": 15,
   "metadata": {},
   "outputs": [
    {
     "data": {
      "text/plain": [
       "-0.22184035"
      ]
     },
     "execution_count": 15,
     "metadata": {},
     "output_type": "execute_result"
    }
   ],
   "source": [
    "with tf.Session() as sess:\n",
    "    w_out = sess.run(w7)\n",
    "\n",
    "w_out"
   ]
  },
  {
   "cell_type": "markdown",
   "metadata": {},
   "source": [
    "### Exercise 3: Feed in values using feed-dict and placeholders\n",
    "* Use the same computation graph as in exercise 2, but this time, start off `x` and `y` as 3x3 arrays of random values using `tf.random_normal(shape)`\n",
    "* Change `w1` and `w2` into placeholders, and run the graph using `feed_dict`\n",
    "* Your output should be a 3x3 array of random numbers"
   ]
  },
  {
   "cell_type": "code",
   "execution_count": 22,
   "metadata": {},
   "outputs": [],
   "source": [
    "x = tf.random_normal((3,3))\n",
    "y = tf.random_normal((3,3))\n",
    "w1 = tf.placeholder(tf.float32, shape=(3,3))\n",
    "w2 = tf.placeholder(tf.float32, shape=(3,3))\n",
    "w3 = tf.cos(x)\n",
    "w4 = tf.sin(y)\n",
    "w5 = tf.multiply(w3, w4)\n",
    "w6 = tf.divide(w1, w2)\n",
    "w7 = tf.add(w5,w6)"
   ]
  },
  {
   "cell_type": "code",
   "execution_count": 23,
   "metadata": {},
   "outputs": [
    {
     "data": {
      "text/plain": [
       "array([[-2.0437193 ,  0.7138333 , -0.29968038],\n",
       "       [-1.2400811 ,  0.74266607, -5.471509  ],\n",
       "       [-2.3333826 , -1.112786  , 21.828873  ]], dtype=float32)"
      ]
     },
     "execution_count": 23,
     "metadata": {},
     "output_type": "execute_result"
    }
   ],
   "source": [
    "with tf.Session() as sess:\n",
    "    feed1 = x.eval()\n",
    "    feed2 = y.eval()\n",
    "    w_out = sess.run(w7, feed_dict={w1:feed1, w2:feed2})\n",
    "\n",
    "w_out"
   ]
  },
  {
   "cell_type": "code",
   "execution_count": null,
   "metadata": {},
   "outputs": [],
   "source": []
  }
 ],
 "metadata": {
  "kernelspec": {
   "display_name": "Python 3",
   "language": "python",
   "name": "python3"
  },
  "language_info": {
   "codemirror_mode": {
    "name": "ipython",
    "version": 3
   },
   "file_extension": ".py",
   "mimetype": "text/x-python",
   "name": "python",
   "nbconvert_exporter": "python",
   "pygments_lexer": "ipython3",
   "version": "3.5.2"
  }
 },
 "nbformat": 4,
 "nbformat_minor": 2
}
