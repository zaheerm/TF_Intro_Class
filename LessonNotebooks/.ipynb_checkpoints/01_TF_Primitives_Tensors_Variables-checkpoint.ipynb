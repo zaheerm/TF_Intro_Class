{
 "cells": [
  {
   "cell_type": "markdown",
   "metadata": {},
   "source": [
    "### Let's first test that everything works"
   ]
  },
  {
   "cell_type": "code",
   "execution_count": 1,
   "metadata": {},
   "outputs": [
    {
     "name": "stderr",
     "output_type": "stream",
     "text": [
      "/usr/local/lib/python3.5/dist-packages/h5py/__init__.py:36: FutureWarning: Conversion of the second argument of issubdtype from `float` to `np.floating` is deprecated. In future, it will be treated as `np.float64 == np.dtype(float).type`.\n",
      "  from ._conv import register_converters as _register_converters\n"
     ]
    }
   ],
   "source": [
    "import tensorflow as tf\n",
    "import numpy as np\n",
    "import os\n",
    "from tensorflow.python.framework import ops"
   ]
  },
  {
   "cell_type": "code",
   "execution_count": 2,
   "metadata": {},
   "outputs": [
    {
     "name": "stdout",
     "output_type": "stream",
     "text": [
      "Python 3.5.2\n",
      "Numpy  1.14.2\n",
      "Tensorflow  1.7.0\n"
     ]
    }
   ],
   "source": [
    "!python3 -V\n",
    "print(\"Numpy \",np.__version__)\n",
    "print(\"Tensorflow \",tf.__version__)"
   ]
  },
  {
   "cell_type": "code",
   "execution_count": 4,
   "metadata": {},
   "outputs": [
    {
     "name": "stdout",
     "output_type": "stream",
     "text": [
      "15.0\n"
     ]
    }
   ],
   "source": [
    "#warnings.filterwarnings(\"ignore\")\n",
    "#os.environ['TF_CPP_MIN_LOG_LEVEL'] = '3'\n",
    "tf.reset_default_graph()\n",
    "\n",
    "a = tf.placeholder(\"float\")\n",
    "b = tf.placeholder(\"float\")\n",
    "\n",
    "y = tf.multiply(a, b)\n",
    "sess = tf.Session()\n",
    "print(sess.run(y, feed_dict={a: 3, b: 5}))\n",
    "sess.close()"
   ]
  },
  {
   "cell_type": "code",
   "execution_count": 5,
   "metadata": {},
   "outputs": [
    {
     "name": "stdout",
     "output_type": "stream",
     "text": [
      "15.0\n"
     ]
    }
   ],
   "source": [
    "tf.reset_default_graph()\n",
    "\n",
    "a = tf.placeholder(\"float\")\n",
    "b = tf.placeholder(\"float\")\n",
    "\n",
    "y = tf.multiply(a, b)\n",
    "\n",
    "with tf.Session() as sess:\n",
    "    print(sess.run(y, feed_dict={a: 3, b: 5}))"
   ]
  },
  {
   "cell_type": "markdown",
   "metadata": {},
   "source": [
    "### Tensors are just TF's format for multidimensional matrices\n",
    "* `tf.constant()` declares a tensor that does not change\n",
    "* `tf.convert_to_tensor()` converts numpy arrays to TF tensors"
   ]
  },
  {
   "cell_type": "code",
   "execution_count": 7,
   "metadata": {},
   "outputs": [
    {
     "name": "stdout",
     "output_type": "stream",
     "text": [
      "X:  <class 'list'>\n",
      "Y:  <class 'numpy.ndarray'>\n",
      "Z:  <class 'tensorflow.python.framework.ops.Tensor'>\n",
      "t1:  <class 'tensorflow.python.framework.ops.Tensor'>\n",
      "t2:  <class 'tensorflow.python.framework.ops.Tensor'>\n"
     ]
    }
   ],
   "source": [
    "X = [[2.0, 4.0],\n",
    "    [6.0, 8.0]] # X is a list of lists\n",
    "\n",
    "Y = np.array([[2.0, 4.0],\n",
    "            [6.0, 6.0]], dtype=np.float32) # Y is a numpy array\n",
    "\n",
    "Z = tf.constant([[2.0, 4.0],\n",
    "                [6.0, 8.0]]) # Z is a tensor\n",
    "\n",
    "print(\"X: \", type(X))\n",
    "print(\"Y: \",type(Y))\n",
    "print(\"Z: \",type(Z))\n",
    "\n",
    "t1 = tf.convert_to_tensor(X, dtype=tf.float32)\n",
    "t2 = tf.convert_to_tensor(Z, dtype=tf.float32)\n",
    "\n",
    "print(\"t1: \",type(t1))\n",
    "print(\"t2: \",type(t2))"
   ]
  },
  {
   "cell_type": "code",
   "execution_count": 8,
   "metadata": {},
   "outputs": [
    {
     "name": "stdout",
     "output_type": "stream",
     "text": [
      "scalar shape:  ()\n",
      "vector shape:  (5,)\n",
      "matrix shape:  (2, 3)\n",
      "cube matrix shape:  (3, 3, 1)\n"
     ]
    }
   ],
   "source": [
    "scalar = tf.constant(100)\n",
    "vector = tf.constant([1,2,3,4,5])\n",
    "matrix = tf.constant([[1,2,3],[4,5,6]])\n",
    "\n",
    "cube_matrix = tf.constant([[[1],[2],[3]],[[4],[5],[6]],[[7],[8],[9]]])\n",
    "\n",
    "print(\"scalar shape: \",scalar.get_shape())\n",
    "print(\"vector shape: \",vector.get_shape())\n",
    "print(\"matrix shape: \",matrix.get_shape())\n",
    "print(\"cube matrix shape: \",cube_matrix.get_shape())"
   ]
  },
  {
   "cell_type": "markdown",
   "metadata": {},
   "source": [
    "### Tensor Data Types\n",
    "* In addition to rank and shape, tensors have a data type"
   ]
  },
  {
   "cell_type": "markdown",
   "metadata": {},
   "source": [
    "<br><br>\n",
    "<center><b>Tensorflow Data Types</b>\n",
    "<img src=\"../pics/tf_datatypes.png\" width=90%>"
   ]
  },
  {
   "cell_type": "markdown",
   "metadata": {},
   "source": [
    "### TF `Variable`\n",
    "* Tensorflow Variables are used to hold and update parameters.\n",
    "* A variable must be initialized, so that you can save and restore the values later on.\n",
    "* Variables are created using either `tf.Variable()` or `tf.get_variable()` statements.\n",
    "* `assign()` and `add()` are nodes in the computation graph, so don't execute the assignment until the session is run"
   ]
  },
  {
   "cell_type": "code",
   "execution_count": 9,
   "metadata": {},
   "outputs": [],
   "source": [
    "# create a blank slate\n",
    "tf.reset_default_graph()"
   ]
  },
  {
   "cell_type": "code",
   "execution_count": 10,
   "metadata": {},
   "outputs": [
    {
     "data": {
      "text/plain": [
       "<tf.Variable 'value:0' shape=() dtype=int32_ref>"
      ]
     },
     "execution_count": 10,
     "metadata": {},
     "output_type": "execute_result"
    }
   ],
   "source": [
    "# create a variable initialized to scalar value of 0\n",
    "value = tf.get_variable(\"value\", shape=[], dtype=tf.int32, initializer=None, trainable=True,regularizer=None, collections=None)\n",
    "value"
   ]
  },
  {
   "cell_type": "code",
   "execution_count": 11,
   "metadata": {},
   "outputs": [],
   "source": [
    "one = tf.constant(1)\n",
    "update_value = tf.assign_add(value, one)"
   ]
  },
  {
   "cell_type": "markdown",
   "metadata": {},
   "source": [
    "### Since TF is graph-based, we normally run everything in a `tf.Session()`"
   ]
  },
  {
   "cell_type": "code",
   "execution_count": 13,
   "metadata": {},
   "outputs": [
    {
     "name": "stdout",
     "output_type": "stream",
     "text": [
      "The multiplication of x and y: 72\n"
     ]
    }
   ],
   "source": [
    "# a simple session without variables\n",
    "x = tf.constant(8) # X op\n",
    "y = tf.constant(9) # Y op\n",
    "z = tf.multiply(x, y) # New op Z\n",
    "\n",
    "sess = tf.Session() # Create TensorFlow session\n",
    "\n",
    "out_z = sess.run(z) # execute Z op\n",
    "\n",
    "sess.close() # Close TensorFlow session\n",
    "\n",
    "print('The multiplication of x and y: %d' % out_z) # print result"
   ]
  },
  {
   "cell_type": "code",
   "execution_count": 14,
   "metadata": {},
   "outputs": [
    {
     "name": "stdout",
     "output_type": "stream",
     "text": [
      "0\n",
      "1\n",
      "2\n",
      "3\n",
      "4\n",
      "5\n"
     ]
    }
   ],
   "source": [
    "# initialize the variables\n",
    "initialize_var = tf.global_variables_initializer()\n",
    "\n",
    "# Instantiate the computation graph for our previously defined variable\n",
    "with tf.Session() as sess:\n",
    "    sess.run(initialize_var)\n",
    "    print(sess.run(value))\n",
    "    for _ in range(5):\n",
    "        sess.run(update_value)\n",
    "        print(sess.run(value))\n",
    "    # session automatically closed by context manager"
   ]
  },
  {
   "cell_type": "markdown",
   "metadata": {},
   "source": [
    "### Fetches\n",
    "* To getch the output of an operation, the graph can be executed by calling `run()` on the session object and passing in the tensors.\n",
    "* You can also use `eval()` as `a.eval()` is equivalent to `sess.run(a)` - the difference is that you can use `run()` to fetch the values of many tensors, so generally easier to use.\n",
    "* All the ops that need to be executed to produce tensor values are run once (not once per requested tensor)."
   ]
  },
  {
   "cell_type": "code",
   "execution_count": 16,
   "metadata": {},
   "outputs": [
    {
     "name": "stdout",
     "output_type": "stream",
     "text": [
      "3\n",
      "\n",
      "[[ 2  3  4]\n",
      " [ 5  6  7]\n",
      " [ 8  9 10]] [[ 2  3  4]\n",
      " [ 5  6  7]\n",
      " [ 8  9 10]]\n"
     ]
    }
   ],
   "source": [
    "array_2d = np.array([(1,2,3),(4,5,6),(7,8,9)])\n",
    "print(array_2d.shape[0])\n",
    "print()\n",
    "tensor_2d = tf.Variable(array_2d)\n",
    "add_op_1 = tf.assign_add(tensor_2d, tf.ones((3,3),dtype=tf.int64))\n",
    "#tensor_2d = tf.get_variable(array_2d, shape=[array_2d.shape[0], array_2d.shape[0]], dtype=tf.int32, initializer=None, regularizer=None, trainable=True, collections=None)\n",
    "\n",
    "with tf.Session() as sess:\n",
    "    sess.run(tf.global_variables_initializer())\n",
    "#     print(tensor_2d.get_shape())\n",
    "#     print()\n",
    "#     print(sess.run(tensor_2d))\n",
    "#     print()\n",
    "#     print(sess.run(add_op_1))\n",
    "    a, b = sess.run([tensor_2d, add_op_1])\n",
    "    print(a, b)\n",
    "# Finally, close the TensorFlow session when you're done\n",
    "sess.close()"
   ]
  },
  {
   "cell_type": "code",
   "execution_count": 17,
   "metadata": {},
   "outputs": [
    {
     "name": "stdout",
     "output_type": "stream",
     "text": [
      "[array([400.], dtype=float32), array([300.], dtype=float32)]\n"
     ]
    }
   ],
   "source": [
    "constant_A = tf.constant([100.0])\n",
    "constant_B = tf.constant([300.0])\n",
    "constant_C = tf.constant([3.0])\n",
    "sum_ = tf.add(constant_A,constant_B)\n",
    "mul_ = tf.multiply(constant_A,constant_C)\n",
    "\n",
    "with tf.Session() as sess:\n",
    "    result = sess.run([sum_,mul_])\n",
    "    # _ means throw away afterwards\n",
    "    print(result)"
   ]
  },
  {
   "cell_type": "markdown",
   "metadata": {},
   "source": [
    "### Tensorflow Data Pipelines\n",
    "There are four ways of getting data into a TensorFlow program:\n",
    "* **The Dataset API:** Build complex input pipelines from reusable pieces of distributed filesystems and perform complex operations. Highly recommended for lare amounts of data in different data formats. We will cover briefly later on.\n",
    "* **Feeding:** Allows us to inject data into any tensor in a computation graph\n",
    "* **Reading from files:** Develop an input pipeline using Python's native mechanism for reading data from data files at the beinning of the graph.\n",
    "* **Preloaded data:** For a small dataset, we can use either constants or variables within the TensorFlow graph to hold all the data."
   ]
  },
  {
   "cell_type": "markdown",
   "metadata": {},
   "source": [
    "### Feeding\n",
    "* We can provide the feed data throught the `feed_dict` argument to a `run()` or `eval()` that initiates the computation.\n",
    "* Feeding is easy, but is the least efficient way to feed data into a TF graph, and is mainly used for small experiuments and debugging.\n",
    "* We can replace any tensor with feed data - normally using `tf.placeholder()` which exists exclusively as the farget of feeds. "
   ]
  },
  {
   "cell_type": "code",
   "execution_count": 18,
   "metadata": {},
   "outputs": [
    {
     "name": "stdout",
     "output_type": "stream",
     "text": [
      "[[0.1256807  0.5962678 ]\n",
      " [0.76187724 0.44565716]\n",
      " [1.1348076  0.32723588]]\n"
     ]
    }
   ],
   "source": [
    "a = 3\n",
    "b = 2\n",
    "x = tf.placeholder(tf.float32, shape=(a,b))\n",
    "y = tf.add(x, x)\n",
    "\n",
    "data = np.random.rand(a,b)\n",
    "sess = tf.Session()\n",
    "print(sess.run(y, feed_dict={x:data}))\n",
    "sess.close() # need to manually close the session since not using a context manager"
   ]
  },
  {
   "cell_type": "code",
   "execution_count": null,
   "metadata": {},
   "outputs": [],
   "source": []
  }
 ],
 "metadata": {
  "kernelspec": {
   "display_name": "Python 3",
   "language": "python",
   "name": "python3"
  },
  "language_info": {
   "codemirror_mode": {
    "name": "ipython",
    "version": 3
   },
   "file_extension": ".py",
   "mimetype": "text/x-python",
   "name": "python",
   "nbconvert_exporter": "python",
   "pygments_lexer": "ipython3",
   "version": "3.5.2"
  }
 },
 "nbformat": 4,
 "nbformat_minor": 2
}
